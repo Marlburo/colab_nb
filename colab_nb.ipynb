{
  "nbformat": 4,
  "nbformat_minor": 0,
  "metadata": {
    "colab": {
      "name": "colab_nb.ipynb",
      "provenance": [],
      "authorship_tag": "ABX9TyPciALi6x/frGU9hfqbxean",
      "include_colab_link": true
    },
    "kernelspec": {
      "name": "python3",
      "display_name": "Python 3"
    },
    "language_info": {
      "name": "python"
    }
  },
  "cells": [
    {
      "cell_type": "markdown",
      "metadata": {
        "id": "view-in-github",
        "colab_type": "text"
      },
      "source": [
        "<a href=\"https://colab.research.google.com/github/Marlburo/colab_nb/blob/Keras/colab_nb.ipynb\" target=\"_parent\"><img src=\"https://colab.research.google.com/assets/colab-badge.svg\" alt=\"Open In Colab\"/></a>"
      ]
    },
    {
      "cell_type": "code",
      "metadata": {
        "id": "jWMGD9r-OJRz"
      },
      "source": [
        "import pandas as pd\n",
        "import numpy as np\n",
        "import os\n",
        "import glob\n",
        "import tensorflow as tf\n",
        "from tensorflow import keras\n",
        "from tensorflow.keras import layers\n",
        "from matplotlib import pyplot as plt\n"
      ],
      "execution_count": 1,
      "outputs": []
    },
    {
      "cell_type": "code",
      "metadata": {
        "id": "TPu20r0vOWu2"
      },
      "source": [
        "tf.config.threading.set_inter_op_parallelism_threads(\n",
        "    0\n",
        ")\n",
        "\n",
        "#housing_test = pd.read_csv(\"/content/sample_data/california_housing_test.csv\")\n",
        "#housing_train = pd.read_csv(\"/content/sample_data/california_housing_train.csv\")\n",
        "mnist_test = pd.read_csv(\"/content/sample_data/mnist_test.csv\")\n",
        "mnist_train = pd.read_csv(\"/content/sample_data/mnist_train_small.csv\")"
      ],
      "execution_count": 2,
      "outputs": []
    },
    {
      "cell_type": "code",
      "metadata": {
        "id": "u8vkQTwPQSD_"
      },
      "source": [
        "#housing_test.describe()\n",
        "#mnist_test\n",
        "inputs = keras.Input(shape=(784,), name=\"digits\")\n",
        "x = layers.Dense(64, activation='relu', name='dense_1')(inputs)\n",
        "x = layers.Dense(64, activation='relu', name='dense_2')(x)\n",
        "outputs = layers.Dense(10, activation='softmax', name = 'predictions')(x)\n",
        "model = keras.Model(inputs=inputs, outputs=outputs)"
      ],
      "execution_count": 3,
      "outputs": []
    },
    {
      "cell_type": "code",
      "metadata": {
        "id": "fYaJdVgRRwk9",
        "colab": {
          "base_uri": "https://localhost:8080/"
        },
        "outputId": "3461770b-e0e9-4335-8efd-a4fb4be16bba"
      },
      "source": [
        "(x_train, y_train), (x_test, y_test) = keras.datasets.mnist.load_data()#mnist_train, mnist_test\n",
        "\n",
        "#preprocess the data\n",
        "x_train = x_train.reshape(60000, 784).astype(\"float32\")/255\n",
        "x_test = x_test.reshape(10000, 784).astype(\"float32\")/255\n",
        "\n",
        "y_train = y_train.astype(\"float32\")\n",
        "y_test = y_test.astype(\"float32\")\n",
        "\n",
        "#reserve 10000 samples for validation\n",
        "x_val = x_train[-10000:]\n",
        "y_val = y_train[-10000:]\n",
        "x_train = x_train[:-10000]\n",
        "y_train = y_train[:-10000]"
      ],
      "execution_count": 4,
      "outputs": [
        {
          "output_type": "stream",
          "text": [
            "Downloading data from https://storage.googleapis.com/tensorflow/tf-keras-datasets/mnist.npz\n",
            "11493376/11490434 [==============================] - 0s 0us/step\n"
          ],
          "name": "stdout"
        }
      ]
    },
    {
      "cell_type": "code",
      "metadata": {
        "id": "wqTJfn1BpayI"
      },
      "source": [
        "model.compile(\n",
        "    optimizer=keras.optimizers.RMSprop(),\n",
        "    #loss function to minimize\n",
        "    loss=keras.losses.SparseCategoricalCrossentropy(),\n",
        "    #list of metrics to monitor\n",
        "    metrics=[keras.metrics.SparseCategoricalAccuracy()]\n",
        ")"
      ],
      "execution_count": 5,
      "outputs": []
    },
    {
      "cell_type": "code",
      "metadata": {
        "colab": {
          "base_uri": "https://localhost:8080/"
        },
        "id": "kW3uKqDMCvCd",
        "outputId": "8942da6a-b8ab-411a-b93d-00ef6acfe438"
      },
      "source": [
        "print(\"Fit model on training data\")\n",
        "history = model.fit(\n",
        "    x_train,\n",
        "    y_train,\n",
        "    batch_size=64,\n",
        "    epochs=15,\n",
        "    #We pass some validation for\n",
        "    #monitoring validation loss and metrics\n",
        "    #at the end of each epoch\n",
        "    validation_data=(x_val, y_val),\n",
        ")"
      ],
      "execution_count": 6,
      "outputs": [
        {
          "output_type": "stream",
          "text": [
            "Fit model on training data\n",
            "Epoch 1/15\n",
            "782/782 [==============================] - 3s 3ms/step - loss: 0.3430 - sparse_categorical_accuracy: 0.9028 - val_loss: 0.1868 - val_sparse_categorical_accuracy: 0.9464\n",
            "Epoch 2/15\n",
            "782/782 [==============================] - 2s 3ms/step - loss: 0.1649 - sparse_categorical_accuracy: 0.9511 - val_loss: 0.1520 - val_sparse_categorical_accuracy: 0.9555\n",
            "Epoch 3/15\n",
            "782/782 [==============================] - 2s 3ms/step - loss: 0.1213 - sparse_categorical_accuracy: 0.9638 - val_loss: 0.1205 - val_sparse_categorical_accuracy: 0.9672\n",
            "Epoch 4/15\n",
            "782/782 [==============================] - 2s 3ms/step - loss: 0.0970 - sparse_categorical_accuracy: 0.9706 - val_loss: 0.1242 - val_sparse_categorical_accuracy: 0.9633\n",
            "Epoch 5/15\n",
            "782/782 [==============================] - 2s 3ms/step - loss: 0.0809 - sparse_categorical_accuracy: 0.9753 - val_loss: 0.1012 - val_sparse_categorical_accuracy: 0.9700\n",
            "Epoch 6/15\n",
            "782/782 [==============================] - 2s 3ms/step - loss: 0.0698 - sparse_categorical_accuracy: 0.9786 - val_loss: 0.1053 - val_sparse_categorical_accuracy: 0.9703\n",
            "Epoch 7/15\n",
            "782/782 [==============================] - 2s 3ms/step - loss: 0.0597 - sparse_categorical_accuracy: 0.9820 - val_loss: 0.0929 - val_sparse_categorical_accuracy: 0.9732\n",
            "Epoch 8/15\n",
            "782/782 [==============================] - 2s 3ms/step - loss: 0.0523 - sparse_categorical_accuracy: 0.9843 - val_loss: 0.1015 - val_sparse_categorical_accuracy: 0.9722\n",
            "Epoch 9/15\n",
            "782/782 [==============================] - 2s 2ms/step - loss: 0.0456 - sparse_categorical_accuracy: 0.9866 - val_loss: 0.1526 - val_sparse_categorical_accuracy: 0.9596\n",
            "Epoch 10/15\n",
            "782/782 [==============================] - 2s 3ms/step - loss: 0.0403 - sparse_categorical_accuracy: 0.9879 - val_loss: 0.1048 - val_sparse_categorical_accuracy: 0.9738\n",
            "Epoch 11/15\n",
            "782/782 [==============================] - 2s 3ms/step - loss: 0.0356 - sparse_categorical_accuracy: 0.9894 - val_loss: 0.1170 - val_sparse_categorical_accuracy: 0.9720\n",
            "Epoch 12/15\n",
            "782/782 [==============================] - 2s 2ms/step - loss: 0.0313 - sparse_categorical_accuracy: 0.9904 - val_loss: 0.1039 - val_sparse_categorical_accuracy: 0.9752\n",
            "Epoch 13/15\n",
            "782/782 [==============================] - 2s 3ms/step - loss: 0.0280 - sparse_categorical_accuracy: 0.9914 - val_loss: 0.1076 - val_sparse_categorical_accuracy: 0.9747\n",
            "Epoch 14/15\n",
            "782/782 [==============================] - 2s 3ms/step - loss: 0.0254 - sparse_categorical_accuracy: 0.9923 - val_loss: 0.1089 - val_sparse_categorical_accuracy: 0.9749\n",
            "Epoch 15/15\n",
            "782/782 [==============================] - 2s 3ms/step - loss: 0.0219 - sparse_categorical_accuracy: 0.9938 - val_loss: 0.1459 - val_sparse_categorical_accuracy: 0.9711\n"
          ],
          "name": "stdout"
        }
      ]
    },
    {
      "cell_type": "code",
      "metadata": {
        "colab": {
          "base_uri": "https://localhost:8080/"
        },
        "id": "LFKWrdwCDSQh",
        "outputId": "046b6e62-fcb5-4490-bcdd-da52ea5a3204"
      },
      "source": [
        "history.history"
      ],
      "execution_count": 7,
      "outputs": [
        {
          "output_type": "execute_result",
          "data": {
            "text/plain": [
              "{'loss': [0.342960387468338,\n",
              "  0.1648763120174408,\n",
              "  0.12128890305757523,\n",
              "  0.09695176780223846,\n",
              "  0.0809183344244957,\n",
              "  0.06977476924657822,\n",
              "  0.05966268107295036,\n",
              "  0.052336376160383224,\n",
              "  0.045596059411764145,\n",
              "  0.04033646360039711,\n",
              "  0.035589899867773056,\n",
              "  0.031274549663066864,\n",
              "  0.02796190418303013,\n",
              "  0.02537720277905464,\n",
              "  0.02185506746172905],\n",
              " 'sparse_categorical_accuracy': [0.9028400182723999,\n",
              "  0.9511399865150452,\n",
              "  0.9638000130653381,\n",
              "  0.9705600142478943,\n",
              "  0.9753199815750122,\n",
              "  0.9786400198936462,\n",
              "  0.98198002576828,\n",
              "  0.984279990196228,\n",
              "  0.9865999817848206,\n",
              "  0.9879199862480164,\n",
              "  0.9893800020217896,\n",
              "  0.9904000163078308,\n",
              "  0.9914399981498718,\n",
              "  0.9923200011253357,\n",
              "  0.9937800168991089],\n",
              " 'val_loss': [0.18680472671985626,\n",
              "  0.15204842388629913,\n",
              "  0.12049970775842667,\n",
              "  0.124221570789814,\n",
              "  0.10120357573032379,\n",
              "  0.10533509403467178,\n",
              "  0.09287604689598083,\n",
              "  0.10147684067487717,\n",
              "  0.15255491435527802,\n",
              "  0.1047794446349144,\n",
              "  0.11695603281259537,\n",
              "  0.10391076654195786,\n",
              "  0.10764263570308685,\n",
              "  0.10892853140830994,\n",
              "  0.14592337608337402],\n",
              " 'val_sparse_categorical_accuracy': [0.946399986743927,\n",
              "  0.9555000066757202,\n",
              "  0.967199981212616,\n",
              "  0.9632999897003174,\n",
              "  0.9700000286102295,\n",
              "  0.970300018787384,\n",
              "  0.9732000231742859,\n",
              "  0.9721999764442444,\n",
              "  0.9595999717712402,\n",
              "  0.973800003528595,\n",
              "  0.972000002861023,\n",
              "  0.9751999974250793,\n",
              "  0.9746999740600586,\n",
              "  0.9749000072479248,\n",
              "  0.9710999727249146]}"
            ]
          },
          "metadata": {
            "tags": []
          },
          "execution_count": 7
        }
      ]
    },
    {
      "cell_type": "code",
      "metadata": {
        "colab": {
          "base_uri": "https://localhost:8080/"
        },
        "id": "rmTPBLuCE2bJ",
        "outputId": "1133047f-819a-442f-9863-104767004b83"
      },
      "source": [
        "print(\"Evaluate on test data\")\n",
        "results = model.evaluate(x_test, y_test, batch_size=128)\n",
        "print (\"test loss, test acc\", results)\n",
        "\n",
        "#generate predictions (probabilities -- the output of the last layer\n",
        "#on new data using predict\n",
        "print (\"Generate predictions for 3 samples\")\n",
        "predictions = model.predict(x_test[:3])\n",
        "print(\"predictions shape:\", predictions.shape)"
      ],
      "execution_count": 8,
      "outputs": [
        {
          "output_type": "stream",
          "text": [
            "Evaluate on test data\n",
            "79/79 [==============================] - 0s 2ms/step - loss: 0.1415 - sparse_categorical_accuracy: 0.9691\n",
            "test loss, test acc [0.14148303866386414, 0.9690999984741211]\n",
            "Generate predictions for 3 samples\n",
            "predictions shape: (3, 10)\n"
          ],
          "name": "stdout"
        }
      ]
    },
    {
      "cell_type": "code",
      "metadata": {
        "id": "OKItQud8GR9C"
      },
      "source": [
        "model.compile(\n",
        "    optimizer=keras.optimizers.RMSprop(learning_rate=1e-3),\n",
        "    loss=keras.losses.SparseCategoricalCrossentropy(),\n",
        "    metrics=[keras.metrics.SparseCategoricalAccuracy()],\n",
        ")"
      ],
      "execution_count": 9,
      "outputs": []
    },
    {
      "cell_type": "code",
      "metadata": {
        "id": "TJeKHHbsNk6w"
      },
      "source": [
        "model.compile(\n",
        "    optimizer=\"rmsprop\",\n",
        "    loss=\"sparse_categorical_crossentropy\",\n",
        "    metrics=[\"sparse_categorical_accuracy\"],\n",
        ")"
      ],
      "execution_count": 10,
      "outputs": []
    },
    {
      "cell_type": "code",
      "metadata": {
        "id": "YTDSQW_AR1FD"
      },
      "source": [
        "def get_uncompiled_model():\n",
        "  inputs = keras.Input(shape=(784,), name=\"digits\")\n",
        "  x = layers.Dense(64, activation=\"relu\", name=\"dense_1\")(inputs)\n",
        "  x = layers.Dense(64, activation=\"relu\", name=\"dense_2\")(x)\n",
        "  outputs = layers.Dense(10, activation=\"softmax\",name=\"predictions\")(x)\n",
        "  model = keras.Model(inputs=inputs, outputs=outputs)\n",
        "  return model\n",
        "\n",
        "def get_compiled_model():\n",
        "  model = get_uncompiled_model()\n",
        "  model.compile(\n",
        "      optimizer=\"rmsprop\",\n",
        "      loss=\"sparse_categorical_crossentropy\",\n",
        "      metrics=[\"sparse_categorical_accuracy\"],\n",
        "  )\n",
        "  return model"
      ],
      "execution_count": 11,
      "outputs": []
    },
    {
      "cell_type": "code",
      "metadata": {
        "colab": {
          "base_uri": "https://localhost:8080/"
        },
        "id": "omyxZoEIYwwn",
        "outputId": "032243f9-973d-4f06-d749-d71a91379868"
      },
      "source": [
        "def custom_mean_squared_error(y_true, y_pred):\n",
        "  return tf.math.reduce_mean(tf.square(y_true - y_pred))\n",
        "\n",
        "model = get_uncompiled_model()\n",
        "model.compile(optimizer=keras.optimizers.Adam(), loss=custom_mean_squared_error)\n",
        "\n",
        "#We need to one-hot encode the labels to use MSE\n",
        "y_train_one_hot = tf.one_hot(y_train, depth=10)\n",
        "model.fit(x_train, y_train_one_hot, batch_size=64, epochs=10)\n"
      ],
      "execution_count": 12,
      "outputs": [
        {
          "output_type": "stream",
          "text": [
            "Epoch 1/10\n",
            "782/782 [==============================] - 2s 2ms/step - loss: 0.0160\n",
            "Epoch 2/10\n",
            "782/782 [==============================] - 2s 2ms/step - loss: 0.0080\n",
            "Epoch 3/10\n",
            "782/782 [==============================] - 2s 2ms/step - loss: 0.0063\n",
            "Epoch 4/10\n",
            "782/782 [==============================] - 2s 2ms/step - loss: 0.0050\n",
            "Epoch 5/10\n",
            "782/782 [==============================] - 2s 2ms/step - loss: 0.0043\n",
            "Epoch 6/10\n",
            "782/782 [==============================] - 2s 2ms/step - loss: 0.0036\n",
            "Epoch 7/10\n",
            "782/782 [==============================] - 2s 2ms/step - loss: 0.0033\n",
            "Epoch 8/10\n",
            "782/782 [==============================] - 2s 2ms/step - loss: 0.0029\n",
            "Epoch 9/10\n",
            "782/782 [==============================] - 2s 2ms/step - loss: 0.0026\n",
            "Epoch 10/10\n",
            "782/782 [==============================] - 2s 2ms/step - loss: 0.0023\n"
          ],
          "name": "stdout"
        },
        {
          "output_type": "execute_result",
          "data": {
            "text/plain": [
              "<tensorflow.python.keras.callbacks.History at 0x7f088a106b10>"
            ]
          },
          "metadata": {
            "tags": []
          },
          "execution_count": 12
        }
      ]
    },
    {
      "cell_type": "code",
      "metadata": {
        "colab": {
          "base_uri": "https://localhost:8080/"
        },
        "id": "V2M_ynQ3a6PH",
        "outputId": "48582edd-54b0-4439-e90f-708c57f69643"
      },
      "source": [
        "class CustomMSE(keras.losses.Loss):\n",
        "  def __init__(self, regularization_factor=0.1, name=\"custom_mse\"):\n",
        "    super().__init__(name=name)\n",
        "    self.regularization_factor = regularization_factor\n",
        "\n",
        "  def call(self, y_true, y_pred):\n",
        "    mse=tf.math.reduce_mean(tf.square(y_true - y_pred))\n",
        "    reg=tf.math.reduce_mean(tf.square(0.5 - y_pred))\n",
        "    return mse + reg * self.regularization_factor\n",
        "\n",
        "model = get_uncompiled_model()\n",
        "model.compile(optimizer=keras.optimizers.Adam(), loss=CustomMSE())  \n",
        "\n",
        "y_train_one_hot = tf.one_hot(y_train, depth=10)\n",
        "model.fit(x_train, y_train_one_hot, batch_size=64, epochs=20)\n"
      ],
      "execution_count": null,
      "outputs": [
        {
          "output_type": "stream",
          "text": [
            "Epoch 1/20\n",
            "782/782 [==============================] - 2s 2ms/step - loss: 0.0385\n",
            "Epoch 2/20\n",
            "782/782 [==============================] - 2s 2ms/step - loss: 0.0311\n",
            "Epoch 3/20\n",
            "782/782 [==============================] - 2s 2ms/step - loss: 0.0295\n",
            "Epoch 4/20\n",
            "782/782 [==============================] - 2s 2ms/step - loss: 0.0286\n",
            "Epoch 5/20\n",
            "782/782 [==============================] - 2s 2ms/step - loss: 0.0280\n",
            "Epoch 6/20\n",
            "782/782 [==============================] - 2s 2ms/step - loss: 0.0276\n",
            "Epoch 7/20\n",
            "782/782 [==============================] - 2s 2ms/step - loss: 0.0273\n",
            "Epoch 8/20\n",
            "782/782 [==============================] - 2s 2ms/step - loss: 0.0270\n",
            "Epoch 9/20\n",
            "782/782 [==============================] - 2s 2ms/step - loss: 0.0267\n",
            "Epoch 10/20\n",
            "782/782 [==============================] - 2s 2ms/step - loss: 0.0266\n",
            "Epoch 11/20\n",
            "782/782 [==============================] - 2s 2ms/step - loss: 0.0264\n",
            "Epoch 12/20\n",
            "782/782 [==============================] - 2s 2ms/step - loss: 0.0264\n"
          ],
          "name": "stdout"
        }
      ]
    },
    {
      "cell_type": "code",
      "metadata": {
        "id": "O_TyZzz7QGoE"
      },
      "source": [
        "class CategoricalTruePositives(keras.metrics.Metric):\n",
        "  def __init__(self, name=\"categorical_true_positives\", **kwargs):\n",
        "    super(CategoricalTruePositives, self).__init__(name=name, **kwargs)\n",
        "    self.true_positives = self.add_weight(name=\"ctp\", initializer=\"zeros\")\n",
        "\n",
        "  def update_state(self, y_true, y_pred, sample_weight=None):\n",
        "    y_pred = tf.reshape(tf.argmax(y_pred, axis=1), shape=(-1,1))\n",
        "    values = tf.cast(y_true, \"int32\") == tf.cast(y_pred, \"int32\")\n",
        "    values = tf.cast(values, \"float32\")\n",
        "    if sample_weight is not None:\n",
        "      sample_weight = tf.cast(sample_weight, \"float32\")\n",
        "      values = tf.multiply(values, sample_weight)\n",
        "    self.true_positives.assign_add(tf.reduce_sum(values))\n",
        "\n",
        "  def result(self):\n",
        "    return self.true_positives\n",
        "\n",
        "  def reset_states(self):\n",
        "    #The state of the metric will be reset at the start of each epoch.\n",
        "    self.true_positives.assign(0.0)\n",
        "\n",
        "model = get_uncompiled_model()\n",
        "model.compile(\n",
        "  optimizer = keras.optimizers.RMSprop(learning_rate=1e-3),\n",
        "  loss=keras.losses.SparseCategoricalCrossentropy(),\n",
        "  metrics=[CategoricalTruePositives()],  \n",
        ")            \n",
        "model.fit(x_train, y_train, batch_size=64, epochs=3)"
      ],
      "execution_count": null,
      "outputs": []
    },
    {
      "cell_type": "code",
      "metadata": {
        "id": "HNkc4Rf0dgHj"
      },
      "source": [
        "model.summary()"
      ],
      "execution_count": null,
      "outputs": []
    },
    {
      "cell_type": "code",
      "metadata": {
        "id": "Ld1Rme7hS3xh"
      },
      "source": [
        ""
      ],
      "execution_count": null,
      "outputs": []
    }
  ]
}