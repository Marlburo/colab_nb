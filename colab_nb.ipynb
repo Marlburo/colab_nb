{
  "nbformat": 4,
  "nbformat_minor": 0,
  "metadata": {
    "colab": {
      "name": "colab_nb.ipynb",
      "provenance": [],
      "authorship_tag": "ABX9TyPmDMFnDGBRFI4EcXU1euqH",
      "include_colab_link": true
    },
    "kernelspec": {
      "name": "python3",
      "display_name": "Python 3"
    },
    "language_info": {
      "name": "python"
    }
  },
  "cells": [
    {
      "cell_type": "markdown",
      "metadata": {
        "id": "view-in-github",
        "colab_type": "text"
      },
      "source": [
        "<a href=\"https://colab.research.google.com/github/Marlburo/colab_nb/blob/Keras/colab_nb.ipynb\" target=\"_parent\"><img src=\"https://colab.research.google.com/assets/colab-badge.svg\" alt=\"Open In Colab\"/></a>"
      ]
    },
    {
      "cell_type": "code",
      "metadata": {
        "id": "jWMGD9r-OJRz"
      },
      "source": [
        "import pandas as pd\n",
        "import numpy as np\n",
        "import os\n",
        "import glob\n",
        "import tensorflow as tf\n",
        "from tensorflow import keras\n",
        "from tensorflow.keras import layers\n",
        "from matplotlib import pyplot as plt\n"
      ],
      "execution_count": 1,
      "outputs": []
    },
    {
      "cell_type": "code",
      "metadata": {
        "id": "TPu20r0vOWu2"
      },
      "source": [
        "#housing_test = pd.read_csv(\"/content/sample_data/california_housing_test.csv\")\n",
        "#housing_train = pd.read_csv(\"/content/sample_data/california_housing_train.csv\")\n",
        "mnist_test = pd.read_csv(\"/content/sample_data/mnist_test.csv\")\n",
        "mnist_train = pd.read_csv(\"/content/sample_data/mnist_train_small.csv\")"
      ],
      "execution_count": 2,
      "outputs": []
    },
    {
      "cell_type": "code",
      "metadata": {
        "id": "u8vkQTwPQSD_"
      },
      "source": [
        "#housing_test.describe()\n",
        "#mnist_test\n",
        "inputs = keras.Input(shape=(784,), name=\"digits\")\n",
        "x = layers.Dense(64, activation='relu', name='dense_1')(inputs)\n",
        "x = layers.Dense(64, activation='relu', name='dense_2')(x)\n",
        "outputs = layers.Dense(10, activation='softmax', name = 'predictions')(x)\n",
        "model = keras.Model(inputs=inputs, outputs=outputs)"
      ],
      "execution_count": 3,
      "outputs": []
    },
    {
      "cell_type": "code",
      "metadata": {
        "id": "fYaJdVgRRwk9"
      },
      "source": [
        "(x_train, y_train), (x_test, y_test) = keras.datasets.mnist.load_data()#mnist_train, mnist_test\n",
        "\n",
        "#preprocess the data\n",
        "x_train = x_train.reshape(60000, 784).astype(\"float32\")/255\n",
        "x_test = x_test.reshape(10000, 784).astype(\"float32\")/255\n",
        "\n",
        "y_train = y_train.astype(\"float32\")\n",
        "y_test = y_test.astype(\"float32\")\n",
        "\n",
        "#reserve 10000 samples for validation\n",
        "x_val = x_train[-10000:]\n",
        "y_val = y_train[-10000:]\n",
        "x_train = x_train[:-10000]\n",
        "y_train = y_train[:-10000]"
      ],
      "execution_count": 4,
      "outputs": []
    },
    {
      "cell_type": "code",
      "metadata": {
        "id": "wqTJfn1BpayI"
      },
      "source": [
        "model.compile(\n",
        "    optimizer=keras.optimizers.RMSprop(),\n",
        "    #loss function to minimize\n",
        "    loss=keras.losses.SparseCategoricalCrossentropy(),\n",
        "    #list of metrics to monitor\n",
        "    metrics=[keras.metrics.SparseCategoricalAccuracy()]\n",
        ")"
      ],
      "execution_count": 5,
      "outputs": []
    },
    {
      "cell_type": "code",
      "metadata": {
        "colab": {
          "base_uri": "https://localhost:8080/"
        },
        "id": "kW3uKqDMCvCd",
        "outputId": "2bb1940e-b4c2-4ab0-c4f6-32c489012750"
      },
      "source": [
        "print(\"Fit model on training data\")\n",
        "history = model.fit(\n",
        "    x_train,\n",
        "    y_train,\n",
        "    batch_size=64,\n",
        "    epochs=15,\n",
        "    #We pass some validation for\n",
        "    #monitoring validation loss and metrics\n",
        "    #at the end of each epoch\n",
        "    validation_data=(x_val, y_val),\n",
        ")"
      ],
      "execution_count": 6,
      "outputs": [
        {
          "output_type": "stream",
          "text": [
            "Fit model on training data\n",
            "Epoch 1/15\n",
            "782/782 [==============================] - 3s 3ms/step - loss: 0.3421 - sparse_categorical_accuracy: 0.9021 - val_loss: 0.1729 - val_sparse_categorical_accuracy: 0.9506\n",
            "Epoch 2/15\n",
            "782/782 [==============================] - 2s 2ms/step - loss: 0.1612 - sparse_categorical_accuracy: 0.9520 - val_loss: 0.1336 - val_sparse_categorical_accuracy: 0.9622\n",
            "Epoch 3/15\n",
            "782/782 [==============================] - 2s 2ms/step - loss: 0.1190 - sparse_categorical_accuracy: 0.9652 - val_loss: 0.1290 - val_sparse_categorical_accuracy: 0.9617\n",
            "Epoch 4/15\n",
            "782/782 [==============================] - 2s 2ms/step - loss: 0.0958 - sparse_categorical_accuracy: 0.9717 - val_loss: 0.1153 - val_sparse_categorical_accuracy: 0.9664\n",
            "Epoch 5/15\n",
            "782/782 [==============================] - 2s 2ms/step - loss: 0.0799 - sparse_categorical_accuracy: 0.9769 - val_loss: 0.0953 - val_sparse_categorical_accuracy: 0.9725\n",
            "Epoch 6/15\n",
            "782/782 [==============================] - 2s 2ms/step - loss: 0.0682 - sparse_categorical_accuracy: 0.9795 - val_loss: 0.0998 - val_sparse_categorical_accuracy: 0.9719\n",
            "Epoch 7/15\n",
            "782/782 [==============================] - 2s 2ms/step - loss: 0.0593 - sparse_categorical_accuracy: 0.9820 - val_loss: 0.0976 - val_sparse_categorical_accuracy: 0.9725\n",
            "Epoch 8/15\n",
            "782/782 [==============================] - 2s 2ms/step - loss: 0.0516 - sparse_categorical_accuracy: 0.9843 - val_loss: 0.0989 - val_sparse_categorical_accuracy: 0.9739\n",
            "Epoch 9/15\n",
            "782/782 [==============================] - 2s 2ms/step - loss: 0.0455 - sparse_categorical_accuracy: 0.9861 - val_loss: 0.1030 - val_sparse_categorical_accuracy: 0.9711\n",
            "Epoch 10/15\n",
            "782/782 [==============================] - 2s 2ms/step - loss: 0.0403 - sparse_categorical_accuracy: 0.9882 - val_loss: 0.1084 - val_sparse_categorical_accuracy: 0.9713\n",
            "Epoch 11/15\n",
            "782/782 [==============================] - 2s 2ms/step - loss: 0.0353 - sparse_categorical_accuracy: 0.9890 - val_loss: 0.1017 - val_sparse_categorical_accuracy: 0.9754\n",
            "Epoch 12/15\n",
            "782/782 [==============================] - 2s 2ms/step - loss: 0.0327 - sparse_categorical_accuracy: 0.9903 - val_loss: 0.1023 - val_sparse_categorical_accuracy: 0.9739\n",
            "Epoch 13/15\n",
            "782/782 [==============================] - 2s 2ms/step - loss: 0.0285 - sparse_categorical_accuracy: 0.9914 - val_loss: 0.1137 - val_sparse_categorical_accuracy: 0.9732\n",
            "Epoch 14/15\n",
            "782/782 [==============================] - 2s 2ms/step - loss: 0.0259 - sparse_categorical_accuracy: 0.9921 - val_loss: 0.1177 - val_sparse_categorical_accuracy: 0.9735\n",
            "Epoch 15/15\n",
            "782/782 [==============================] - 2s 2ms/step - loss: 0.0210 - sparse_categorical_accuracy: 0.9935 - val_loss: 0.1192 - val_sparse_categorical_accuracy: 0.9745\n"
          ],
          "name": "stdout"
        }
      ]
    },
    {
      "cell_type": "code",
      "metadata": {
        "colab": {
          "base_uri": "https://localhost:8080/"
        },
        "id": "LFKWrdwCDSQh",
        "outputId": "078e1dd0-3a25-4c3d-d27e-5e23dafd6e1a"
      },
      "source": [
        "history.history"
      ],
      "execution_count": 7,
      "outputs": [
        {
          "output_type": "execute_result",
          "data": {
            "text/plain": [
              "{'loss': [0.3420805335044861,\n",
              "  0.1612013876438141,\n",
              "  0.11898274719715118,\n",
              "  0.09577574580907822,\n",
              "  0.07985282689332962,\n",
              "  0.06818896532058716,\n",
              "  0.059275105595588684,\n",
              "  0.05163741111755371,\n",
              "  0.04554504528641701,\n",
              "  0.04032101482152939,\n",
              "  0.03534208610653877,\n",
              "  0.03269585594534874,\n",
              "  0.028489526361227036,\n",
              "  0.025912567973136902,\n",
              "  0.02103293687105179],\n",
              " 'sparse_categorical_accuracy': [0.9020599722862244,\n",
              "  0.9520000219345093,\n",
              "  0.9652400016784668,\n",
              "  0.9717199802398682,\n",
              "  0.9769399762153625,\n",
              "  0.9794999957084656,\n",
              "  0.9819599986076355,\n",
              "  0.9843199849128723,\n",
              "  0.9860600233078003,\n",
              "  0.9881799817085266,\n",
              "  0.9890000224113464,\n",
              "  0.9902799725532532,\n",
              "  0.9914399981498718,\n",
              "  0.9920600056648254,\n",
              "  0.9934599995613098],\n",
              " 'val_loss': [0.1728677600622177,\n",
              "  0.13358888030052185,\n",
              "  0.12898793816566467,\n",
              "  0.11534035950899124,\n",
              "  0.0953458845615387,\n",
              "  0.09981714934110641,\n",
              "  0.09763304144144058,\n",
              "  0.09894853830337524,\n",
              "  0.10303424298763275,\n",
              "  0.10841362178325653,\n",
              "  0.10166727751493454,\n",
              "  0.10229282826185226,\n",
              "  0.11369642615318298,\n",
              "  0.11770233511924744,\n",
              "  0.11920127272605896],\n",
              " 'val_sparse_categorical_accuracy': [0.9506000280380249,\n",
              "  0.9621999859809875,\n",
              "  0.9617000222206116,\n",
              "  0.9664000272750854,\n",
              "  0.9725000262260437,\n",
              "  0.9718999862670898,\n",
              "  0.9725000262260437,\n",
              "  0.9739000201225281,\n",
              "  0.9710999727249146,\n",
              "  0.9713000059127808,\n",
              "  0.9753999710083008,\n",
              "  0.9739000201225281,\n",
              "  0.9732000231742859,\n",
              "  0.9735000133514404,\n",
              "  0.9745000004768372]}"
            ]
          },
          "metadata": {
            "tags": []
          },
          "execution_count": 7
        }
      ]
    },
    {
      "cell_type": "code",
      "metadata": {
        "colab": {
          "base_uri": "https://localhost:8080/"
        },
        "id": "rmTPBLuCE2bJ",
        "outputId": "4994df27-ccd7-4bff-ccdb-e91e7587f35f"
      },
      "source": [
        "print(\"Evaluate on test data\")\n",
        "results = model.evaluate(x_test, y_test, batch_size=128)\n",
        "print (\"test loss, test acc\", results)\n",
        "\n",
        "#generate predictions (probabilities -- the output of the last layer\n",
        "#on new data using predict\n",
        "print (\"Generate predictions for 3 samples\")\n",
        "predictions = model.predict(x_test[:3])\n",
        "print(\"predictions shape:\", predictions.shape)"
      ],
      "execution_count": 8,
      "outputs": [
        {
          "output_type": "stream",
          "text": [
            "Evaluate on test data\n",
            "79/79 [==============================] - 0s 2ms/step - loss: 0.1173 - sparse_categorical_accuracy: 0.9740\n",
            "test loss, test acc [0.11732593923807144, 0.9739999771118164]\n",
            "Generate predictions for 3 samples\n",
            "predictions shape: (3, 10)\n"
          ],
          "name": "stdout"
        }
      ]
    },
    {
      "cell_type": "code",
      "metadata": {
        "id": "OKItQud8GR9C"
      },
      "source": [
        "model.compile(\n",
        "    optimizer=keras.optimizers.RMSprop(learning_rate=1e-3),\n",
        "    loss=keras.losses.SparseCategoricalCrossentropy(),\n",
        "    metrics=[keras.metrics.SparseCategoricalAccuracy()],\n",
        ")"
      ],
      "execution_count": 9,
      "outputs": []
    },
    {
      "cell_type": "code",
      "metadata": {
        "id": "TJeKHHbsNk6w"
      },
      "source": [
        "model.compile(\n",
        "    optimizer=\"rmsprop\",\n",
        "    loss=\"sparse_categorical_crossentropy\",\n",
        "    metrics=[\"sparse_categorical_accuracy\"],\n",
        ")"
      ],
      "execution_count": 10,
      "outputs": []
    },
    {
      "cell_type": "code",
      "metadata": {
        "id": "YTDSQW_AR1FD"
      },
      "source": [
        "def get_uncompiled_model():\n",
        "  inputs = keras.Input(shape=(784,), name=\"digits\")\n",
        "  x = layers.Dense(64, activation=\"relu\", name=\"dense_1\")(inputs)\n",
        "  x = layers.Dense(64, activation=\"relu\", name=\"dense_2\")(x)\n",
        "  outputs = layers.Dense(10, activation=\"softmax\",name=\"predictions\")(x)\n",
        "  model = keras.Model(inputs=inputs, outputs=outputs)\n",
        "  return model\n",
        "\n",
        "def get_compiled_model():\n",
        "  model = get_uncompiled_model()\n",
        "  model.compile(\n",
        "      optimizer=\"rmsprop\",\n",
        "      loss=\"sparse_categorical_crossentropy\",\n",
        "      metrics=[\"sparse_categorical_accuracy\"],\n",
        "  )\n",
        "  return model"
      ],
      "execution_count": 11,
      "outputs": []
    },
    {
      "cell_type": "code",
      "metadata": {
        "colab": {
          "base_uri": "https://localhost:8080/"
        },
        "id": "omyxZoEIYwwn",
        "outputId": "580729b6-0963-4cdb-bf5e-49478ae79f3c"
      },
      "source": [
        "def custom_mean_squared_error(y_true, y_pred):\n",
        "  return tf.math.reduce_mean(tf.square(y_true - y_pred))\n",
        "\n",
        "model = get_uncompiled_model()\n",
        "model.compile(optimizer=keras.optimizers.Adam(), loss=custom_mean_squared_error)\n",
        "\n",
        "#We need to one-hot encode the labels to use MSE\n",
        "y_train_one_hot = tf.one_hot(y_train, depth=10)\n",
        "model.fit(x_train, y_train_one_hot, batch_size=64, epochs=10)\n"
      ],
      "execution_count": 12,
      "outputs": [
        {
          "output_type": "stream",
          "text": [
            "Epoch 1/10\n",
            "782/782 [==============================] - 2s 2ms/step - loss: 0.0162\n",
            "Epoch 2/10\n",
            "782/782 [==============================] - 2s 2ms/step - loss: 0.0080\n",
            "Epoch 3/10\n",
            "782/782 [==============================] - 2s 2ms/step - loss: 0.0060\n",
            "Epoch 4/10\n",
            "782/782 [==============================] - 1s 2ms/step - loss: 0.0048\n",
            "Epoch 5/10\n",
            "782/782 [==============================] - 1s 2ms/step - loss: 0.0042\n",
            "Epoch 6/10\n",
            "782/782 [==============================] - 1s 2ms/step - loss: 0.0034\n",
            "Epoch 7/10\n",
            "782/782 [==============================] - 2s 2ms/step - loss: 0.0031\n",
            "Epoch 8/10\n",
            "782/782 [==============================] - 2s 2ms/step - loss: 0.0027\n",
            "Epoch 9/10\n",
            "782/782 [==============================] - 2s 2ms/step - loss: 0.0025\n",
            "Epoch 10/10\n",
            "782/782 [==============================] - 2s 2ms/step - loss: 0.0022\n"
          ],
          "name": "stdout"
        },
        {
          "output_type": "execute_result",
          "data": {
            "text/plain": [
              "<tensorflow.python.keras.callbacks.History at 0x7ff78d6b5510>"
            ]
          },
          "metadata": {
            "tags": []
          },
          "execution_count": 12
        }
      ]
    },
    {
      "cell_type": "code",
      "metadata": {
        "colab": {
          "base_uri": "https://localhost:8080/"
        },
        "id": "V2M_ynQ3a6PH",
        "outputId": "59fc8ae2-a25d-42a1-cf61-a5048f561b43"
      },
      "source": [
        "class CustomMSE(keras.losses.Loss):\n",
        "  def __init__(self, regularization_factor=0.1, name=\"custom_mse\"):\n",
        "    super().__init__(name=name)\n",
        "    self.regularization_factor = regularization_factor\n",
        "\n",
        "  def call(self, y_true, y_pred):\n",
        "    mse=tf.math.reduce_mean(tf.square(y_true - y_pred))\n",
        "    reg=tf.math.reduce_mean(tf.square(0.5 - y_pred))\n",
        "    return mse + reg * self.regularization_factor\n",
        "\n",
        "model = get_uncompiled_model()\n",
        "model.compile(optimizer=keras.optimizers.Adam(), loss=CustomMSE())  \n",
        "\n",
        "y_train_one_hot = tf.one_hot(y_train, depth=10)\n",
        "model.fit(x_train, y_train_one_hot, batch_size=64, epochs=20)\n"
      ],
      "execution_count": 13,
      "outputs": [
        {
          "output_type": "stream",
          "text": [
            "Epoch 1/20\n",
            "782/782 [==============================] - 2s 2ms/step - loss: 0.0381\n",
            "Epoch 2/20\n",
            "782/782 [==============================] - 2s 2ms/step - loss: 0.0311\n",
            "Epoch 3/20\n",
            "782/782 [==============================] - 2s 2ms/step - loss: 0.0297\n",
            "Epoch 4/20\n",
            "782/782 [==============================] - 2s 2ms/step - loss: 0.0290\n",
            "Epoch 5/20\n",
            "782/782 [==============================] - 2s 2ms/step - loss: 0.0283\n",
            "Epoch 6/20\n",
            "782/782 [==============================] - 2s 2ms/step - loss: 0.0278\n",
            "Epoch 7/20\n",
            "782/782 [==============================] - 2s 2ms/step - loss: 0.0275\n",
            "Epoch 8/20\n",
            "782/782 [==============================] - 1s 2ms/step - loss: 0.0272\n",
            "Epoch 9/20\n",
            "782/782 [==============================] - 1s 2ms/step - loss: 0.0269\n",
            "Epoch 10/20\n",
            "782/782 [==============================] - 1s 2ms/step - loss: 0.0267\n",
            "Epoch 11/20\n",
            "782/782 [==============================] - 2s 2ms/step - loss: 0.0265\n",
            "Epoch 12/20\n",
            "782/782 [==============================] - 1s 2ms/step - loss: 0.0264\n",
            "Epoch 13/20\n",
            "782/782 [==============================] - 2s 2ms/step - loss: 0.0263\n",
            "Epoch 14/20\n",
            "782/782 [==============================] - 1s 2ms/step - loss: 0.0262\n",
            "Epoch 15/20\n",
            "782/782 [==============================] - 2s 2ms/step - loss: 0.0262\n",
            "Epoch 16/20\n",
            "782/782 [==============================] - 2s 2ms/step - loss: 0.0260\n",
            "Epoch 17/20\n",
            "782/782 [==============================] - 2s 2ms/step - loss: 0.0260\n",
            "Epoch 18/20\n",
            "782/782 [==============================] - 1s 2ms/step - loss: 0.0259\n",
            "Epoch 19/20\n",
            "782/782 [==============================] - 2s 2ms/step - loss: 0.0258\n",
            "Epoch 20/20\n",
            "782/782 [==============================] - 2s 2ms/step - loss: 0.0259\n"
          ],
          "name": "stdout"
        },
        {
          "output_type": "execute_result",
          "data": {
            "text/plain": [
              "<tensorflow.python.keras.callbacks.History at 0x7ff78cd9ef90>"
            ]
          },
          "metadata": {
            "tags": []
          },
          "execution_count": 13
        }
      ]
    },
    {
      "cell_type": "code",
      "metadata": {
        "colab": {
          "base_uri": "https://localhost:8080/"
        },
        "id": "O_TyZzz7QGoE",
        "outputId": "98f84fed-6a8d-4876-ea8e-d40c84dc7e84"
      },
      "source": [
        "class CategoricalTruePositives(keras.metrics.Metric):\n",
        "  def __init__(self, name=\"categorical_true_positives\", **kwargs):\n",
        "    super(CategoricalTruePositives, self).__init__(name=name, **kwargs)\n",
        "    self.true_positives = self.add_weight(name=\"ctp\", initializer=\"zeros\")\n",
        "\n",
        "  def update_state(self, y_true, y_pred, sample_weight=None):\n",
        "    y_pred = tf.reshape(tf.argmax(y_pred, axis=1), shape=(-1,1))\n",
        "    values = tf.cast(y_true, \"int32\") == tf.cast(y_pred, \"int32\")\n",
        "    values = tf.cast(values, \"float32\")\n",
        "    if sample_weight is not None:\n",
        "      sample_weight = tf.cast(sample_weight, \"float32\")\n",
        "      values = tf.multiply(values, sample_weight)\n",
        "    self.true_positives.assign_add(tf.reduce_sum(values))\n",
        "\n",
        "  def result(self):\n",
        "    return self.true_positives\n",
        "\n",
        "  def reset_states(self):\n",
        "    #The state of the metric will be reset at the start of each epoch.\n",
        "    self.true_positives.assign(0.0)\n",
        "\n",
        "model = get_uncompiled_model()\n",
        "model.compile(\n",
        "  optimizer = keras.optimizers.RMSprop(learning_rate=1e-3),\n",
        "  loss=keras.losses.SparseCategoricalCrossentropy(),\n",
        "  metrics=[CategoricalTruePositives()],  \n",
        ")            \n",
        "model.fit(x_train, y_train, batch_size=64, epochs=3)"
      ],
      "execution_count": 14,
      "outputs": [
        {
          "output_type": "stream",
          "text": [
            "Epoch 1/3\n",
            "782/782 [==============================] - 2s 2ms/step - loss: 0.3349 - categorical_true_positives: 45207.0000\n",
            "Epoch 2/3\n",
            " 84/782 [==>...........................] - ETA: 1s - loss: 0.1809 - categorical_true_positives: 5091.0000"
          ],
          "name": "stdout"
        },
        {
          "output_type": "stream",
          "text": [
            "/usr/local/lib/python3.7/dist-packages/tensorflow/python/keras/metrics.py:257: UserWarning: Metric CategoricalTruePositives implements a `reset_states()` method; rename it to `reset_state()` (without the final \"s\"). The name `reset_states()` has been deprecated to improve API consistency.\n",
            "  'consistency.' % (self.__class__.__name__,))\n"
          ],
          "name": "stderr"
        },
        {
          "output_type": "stream",
          "text": [
            "782/782 [==============================] - 2s 2ms/step - loss: 0.1613 - categorical_true_positives: 47639.0000\n",
            "Epoch 3/3\n",
            "782/782 [==============================] - 1s 2ms/step - loss: 0.1180 - categorical_true_positives: 48228.0000\n"
          ],
          "name": "stdout"
        },
        {
          "output_type": "execute_result",
          "data": {
            "text/plain": [
              "<tensorflow.python.keras.callbacks.History at 0x7ff78cbe4050>"
            ]
          },
          "metadata": {
            "tags": []
          },
          "execution_count": 14
        }
      ]
    },
    {
      "cell_type": "code",
      "metadata": {
        "id": "HNkc4Rf0dgHj",
        "colab": {
          "base_uri": "https://localhost:8080/"
        },
        "outputId": "330ff83f-0df4-463c-e63c-936eb7b8dace"
      },
      "source": [
        "model.summary()"
      ],
      "execution_count": 15,
      "outputs": [
        {
          "output_type": "stream",
          "text": [
            "Model: \"model_3\"\n",
            "_________________________________________________________________\n",
            "Layer (type)                 Output Shape              Param #   \n",
            "=================================================================\n",
            "digits (InputLayer)          [(None, 784)]             0         \n",
            "_________________________________________________________________\n",
            "dense_1 (Dense)              (None, 64)                50240     \n",
            "_________________________________________________________________\n",
            "dense_2 (Dense)              (None, 64)                4160      \n",
            "_________________________________________________________________\n",
            "predictions (Dense)          (None, 10)                650       \n",
            "=================================================================\n",
            "Total params: 55,050\n",
            "Trainable params: 55,050\n",
            "Non-trainable params: 0\n",
            "_________________________________________________________________\n"
          ],
          "name": "stdout"
        }
      ]
    },
    {
      "cell_type": "code",
      "metadata": {
        "id": "Ld1Rme7hS3xh"
      },
      "source": [
        ""
      ],
      "execution_count": 15,
      "outputs": []
    }
  ]
}