{
  "nbformat": 4,
  "nbformat_minor": 0,
  "metadata": {
    "colab": {
      "name": "colab_nb.ipynb",
      "provenance": [],
      "authorship_tag": "ABX9TyODDB2s2ATjmUpqtf9NrGvq",
      "include_colab_link": true
    },
    "kernelspec": {
      "name": "python3",
      "display_name": "Python 3"
    },
    "language_info": {
      "name": "python"
    }
  },
  "cells": [
    {
      "cell_type": "markdown",
      "metadata": {
        "id": "view-in-github",
        "colab_type": "text"
      },
      "source": [
        "<a href=\"https://colab.research.google.com/github/Marlburo/colab_nb/blob/Keras/colab_nb.ipynb\" target=\"_parent\"><img src=\"https://colab.research.google.com/assets/colab-badge.svg\" alt=\"Open In Colab\"/></a>"
      ]
    },
    {
      "cell_type": "code",
      "metadata": {
        "id": "jWMGD9r-OJRz"
      },
      "source": [
        "import pandas as pd\n",
        "import numpy as np\n",
        "import os\n",
        "import glob\n",
        "import tensorflow as tf\n",
        "from tensorflow import keras\n",
        "from tensorflow.keras import layers\n",
        "from matplotlib import pyplot as plt\n"
      ],
      "execution_count": 2,
      "outputs": []
    },
    {
      "cell_type": "code",
      "metadata": {
        "id": "TPu20r0vOWu2"
      },
      "source": [
        "#housing_test = pd.read_csv(\"/content/sample_data/california_housing_test.csv\")\n",
        "#housing_train = pd.read_csv(\"/content/sample_data/california_housing_train.csv\")\n",
        "mnist_test = pd.read_csv(\"/content/sample_data/mnist_test.csv\")\n",
        "mnist_train = pd.read_csv(\"/content/sample_data/mnist_train_small.csv\")"
      ],
      "execution_count": 3,
      "outputs": []
    },
    {
      "cell_type": "code",
      "metadata": {
        "id": "u8vkQTwPQSD_"
      },
      "source": [
        "#housing_test.describe()\n",
        "#mnist_test\n",
        "inputs = keras.Input(shape=(784,), name=\"digits\")\n",
        "x = layers.Dense(64, activation='relu', name='dense_1')(inputs)\n",
        "x = layers.Dense(64, activation='relu', name='dense_2')(x)\n",
        "outputs = layers.Dense(10, activation='softmax', name = 'predictions')(x)\n",
        "model = keras.Model(inputs=inputs, outputs=outputs)"
      ],
      "execution_count": 4,
      "outputs": []
    },
    {
      "cell_type": "code",
      "metadata": {
        "colab": {
          "base_uri": "https://localhost:8080/"
        },
        "id": "fYaJdVgRRwk9",
        "outputId": "c03c3d26-bad6-46bf-ebac-246e0899dd77"
      },
      "source": [
        "(x_train, y_train), (x_test, y_test) = keras.datasets.mnist.load_data()#mnist_train, mnist_test\n",
        "\n",
        "#preprocess the data\n",
        "x_train = x_train.reshape(60000, 784).astype(\"float32\")/255\n",
        "x_test = x_test.reshape(10000, 784).astype(\"float32\")/255\n",
        "\n",
        "y_train = y_train.astype(\"float32\")\n",
        "y_test = y_test.astype(\"float32\")\n",
        "\n",
        "#reserve 10000 samples for validation\n",
        "x_val = x_train[-10000:]\n",
        "y_val = y_train[-10000:]\n",
        "x_train = x_train[:-10000]\n",
        "y_train = y_train[:-10000]"
      ],
      "execution_count": 5,
      "outputs": [
        {
          "output_type": "stream",
          "text": [
            "Downloading data from https://storage.googleapis.com/tensorflow/tf-keras-datasets/mnist.npz\n",
            "11493376/11490434 [==============================] - 0s 0us/step\n"
          ],
          "name": "stdout"
        }
      ]
    },
    {
      "cell_type": "code",
      "metadata": {
        "id": "wqTJfn1BpayI"
      },
      "source": [
        "model.compile(\n",
        "    optimizer=keras.optimizers.RMSprop(),\n",
        "    #loss function to minimize\n",
        "    loss=keras.losses.SparseCategoricalCrossentropy(),\n",
        "    #list of metrics to monitor\n",
        "    metrics=[keras.metrics.SparseCategoricalAccuracy()]\n",
        ")"
      ],
      "execution_count": 6,
      "outputs": []
    },
    {
      "cell_type": "code",
      "metadata": {
        "colab": {
          "base_uri": "https://localhost:8080/"
        },
        "id": "kW3uKqDMCvCd",
        "outputId": "c1e375e9-5a5e-47ba-ca1a-aab47a6c2243"
      },
      "source": [
        "print(\"Fit model on training data\")\n",
        "history = model.fit(\n",
        "    x_train,\n",
        "    y_train,\n",
        "    batch_size=64,\n",
        "    epochs=4,\n",
        "    #We pass some validation for\n",
        "    #monitoring validation loss and metrics\n",
        "    #at the end of each epoch\n",
        "    validation_data=(x_val, y_val),\n",
        ")"
      ],
      "execution_count": 11,
      "outputs": [
        {
          "output_type": "stream",
          "text": [
            "Fit model on training data\n",
            "Epoch 1/4\n",
            "782/782 [==============================] - 2s 3ms/step - loss: 3.1342e-04 - sparse_categorical_accuracy: 0.9998 - val_loss: 0.4201 - val_sparse_categorical_accuracy: 0.9745\n",
            "Epoch 2/4\n",
            "782/782 [==============================] - 2s 2ms/step - loss: 5.4167e-04 - sparse_categorical_accuracy: 0.9998 - val_loss: 0.4264 - val_sparse_categorical_accuracy: 0.9738\n",
            "Epoch 3/4\n",
            "782/782 [==============================] - 2s 2ms/step - loss: 2.5385e-04 - sparse_categorical_accuracy: 0.9999 - val_loss: 0.4277 - val_sparse_categorical_accuracy: 0.9745\n",
            "Epoch 4/4\n",
            "782/782 [==============================] - 2s 3ms/step - loss: 7.1716e-04 - sparse_categorical_accuracy: 0.9998 - val_loss: 0.4451 - val_sparse_categorical_accuracy: 0.9749\n"
          ],
          "name": "stdout"
        }
      ]
    },
    {
      "cell_type": "code",
      "metadata": {
        "colab": {
          "base_uri": "https://localhost:8080/"
        },
        "id": "LFKWrdwCDSQh",
        "outputId": "da5330c9-06b5-4040-8fd4-eb0128be141a"
      },
      "source": [
        "history.history"
      ],
      "execution_count": 12,
      "outputs": [
        {
          "output_type": "execute_result",
          "data": {
            "text/plain": [
              "{'loss': [0.00031341525027528405,\n",
              "  0.0005416739149950445,\n",
              "  0.00025385365006513894,\n",
              "  0.0007171611068770289],\n",
              " 'sparse_categorical_accuracy': [0.9998400211334229,\n",
              "  0.9998199939727783,\n",
              "  0.9998999834060669,\n",
              "  0.9998400211334229],\n",
              " 'val_loss': [0.42014598846435547,\n",
              "  0.4263850450515747,\n",
              "  0.4276760220527649,\n",
              "  0.44508275389671326],\n",
              " 'val_sparse_categorical_accuracy': [0.9745000004768372,\n",
              "  0.973800003528595,\n",
              "  0.9745000004768372,\n",
              "  0.9749000072479248]}"
            ]
          },
          "metadata": {
            "tags": []
          },
          "execution_count": 12
        }
      ]
    },
    {
      "cell_type": "code",
      "metadata": {
        "colab": {
          "base_uri": "https://localhost:8080/"
        },
        "id": "rmTPBLuCE2bJ",
        "outputId": "0b65024f-048c-49cc-f348-2e97d9a519d1"
      },
      "source": [
        "print(\"Evaluate on test data\")\n",
        "results = model.evaluate(x_test, y_test, batch_size=128)\n",
        "print (\"test loss, test acc\", results)\n",
        "\n",
        "#generate predictions (probabilities -- the output of the last layer\n",
        "#on new data using predict\n",
        "print (\"Generate predictions for 3 samples\")\n",
        "predictions = model.predict(x_test[:3])\n",
        "print(\"predictions shape:\", predictions.shape)"
      ],
      "execution_count": 13,
      "outputs": [
        {
          "output_type": "stream",
          "text": [
            "Evaluate on test data\n",
            "79/79 [==============================] - 0s 2ms/step - loss: 0.4043 - sparse_categorical_accuracy: 0.9751\n",
            "test loss, test acc [0.40428951382637024, 0.9750999808311462]\n",
            "Generate predictions for 3 samples\n",
            "predictions shape: (3, 10)\n"
          ],
          "name": "stdout"
        }
      ]
    },
    {
      "cell_type": "code",
      "metadata": {
        "id": "OKItQud8GR9C"
      },
      "source": [
        "model.compile(\n",
        "    optimizer=keras.optimizers.RMSprop(learning_rate=1e-3),\n",
        "    loss=keras.losses.SparseCategoricalCrossentropy(),\n",
        "    metrics=[keras.metrics.SparseCategoricalAccuracy()],\n",
        ")"
      ],
      "execution_count": 14,
      "outputs": []
    },
    {
      "cell_type": "code",
      "metadata": {
        "id": "TJeKHHbsNk6w"
      },
      "source": [
        "model.compile(\n",
        "    optimizer=\"rmsprop\",\n",
        "    loss=\"sparse_categorical_crossentropy\",\n",
        "    metrics=[\"sparse_categorical_accuracy\"],\n",
        ")"
      ],
      "execution_count": 15,
      "outputs": []
    },
    {
      "cell_type": "code",
      "metadata": {
        "id": "YTDSQW_AR1FD"
      },
      "source": [
        "def get_uncompiled_model():\n",
        "  inputs = keras.Input(shape=(784,), name=\"digits\")\n",
        "  x = layers.Dense(64, activation=\"relu\", name=\"dense_1\")(inputs)\n",
        "  x = layers.Dense(64, activation=\"relu\", name=\"dense_2\")(x)\n",
        "  outputs = layers.Dense(10, activation=\"softmax\",name=\"predictions\")(x)\n",
        "  model = keras.Model(inputs=inputs, outputs=outputs)\n",
        "  return model\n",
        "\n",
        "def get_compiled_model():\n",
        "  model = get_uncompiled_model()\n",
        "  model.compile(\n",
        "      optimizer=\"rmsprop\",\n",
        "      loss=\"sparse_categorical_crossentropy\",\n",
        "      metrics=[\"sparse_categorical_accuracy\"],\n",
        "  )\n",
        "  return model"
      ],
      "execution_count": 16,
      "outputs": []
    },
    {
      "cell_type": "code",
      "metadata": {
        "id": "omyxZoEIYwwn"
      },
      "source": [
        ""
      ],
      "execution_count": null,
      "outputs": []
    }
  ]
}